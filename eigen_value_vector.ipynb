{
 "cells": [
  {
   "cell_type": "code",
   "execution_count": 1,
   "metadata": {},
   "outputs": [],
   "source": [
    "import numpy as np"
   ]
  },
  {
   "cell_type": "code",
   "execution_count": 12,
   "metadata": {},
   "outputs": [
    {
     "name": "stdout",
     "output_type": "stream",
     "text": [
      "Eigen values : \n",
      "[3. 5.]\n",
      "Eigen vectors :\n",
      "[[-0.70710678 -0.31622777]\n",
      " [-0.70710678 -0.9486833 ]]\n"
     ]
    }
   ],
   "source": [
    "m_a = np.array([\n",
    "    [2,1],\n",
    "    [-3,6]\n",
    "])\n",
    "\n",
    "a_eigen_values, a_eigen_vector = np.linalg.eig(m_a)\n",
    "\n",
    "print(\"Eigen values : \")\n",
    "print(a_eigen_values)\n",
    "\n",
    "print(\"Eigen vectors :\")\n",
    "print(a_eigen_vector)"
   ]
  },
  {
   "cell_type": "code",
   "execution_count": 16,
   "metadata": {},
   "outputs": [
    {
     "name": "stdout",
     "output_type": "stream",
     "text": [
      "Eigen values : \n",
      "[1. 1. 1.]\n",
      "Eigen vectors :\n",
      "[[1. 0. 0.]\n",
      " [0. 1. 0.]\n",
      " [0. 0. 1.]]\n"
     ]
    }
   ],
   "source": [
    "m_id = np.array([\n",
    "    [1,0,0],\n",
    "    [0,1,0],\n",
    "    [0,0,1]\n",
    "])\n",
    "\n",
    "id_eigen_values, id_eigen_vector = np.linalg.eig(m_id)\n",
    "\n",
    "print(\"Eigen values : \")\n",
    "print(id_eigen_values)\n",
    "\n",
    "print(\"Eigen vectors :\")\n",
    "print(id_eigen_vector)"
   ]
  },
  {
   "cell_type": "code",
   "execution_count": 17,
   "metadata": {},
   "outputs": [
    {
     "name": "stdout",
     "output_type": "stream",
     "text": [
      "[[1 2]\n",
      " [0 4]]\n"
     ]
    }
   ],
   "source": [
    "mat_a = np.array([\n",
    "    [1,2],\n",
    "    [0,4]\n",
    "])\n",
    "\n",
    "mat_b = np.array([\n",
    "    [1,0],\n",
    "    [0,1]\n",
    "])\n",
    "\n",
    "mat_ab = np.dot(mat_a, mat_b)\n",
    "print(mat_ab)"
   ]
  },
  {
   "cell_type": "code",
   "execution_count": 19,
   "metadata": {},
   "outputs": [
    {
     "name": "stdout",
     "output_type": "stream",
     "text": [
      "Eigen values : \n",
      "[1. 4.]\n",
      "Eigen vectors :\n",
      "[[1.         0.5547002 ]\n",
      " [0.         0.83205029]]\n"
     ]
    }
   ],
   "source": [
    "ab_eigen_values, ab_eigen_vector = np.linalg.eig(mat_ab)\n",
    "\n",
    "print(\"Eigen values : \")\n",
    "print(ab_eigen_values)\n",
    "\n",
    "print(\"Eigen vectors :\")\n",
    "print(ab_eigen_vector)"
   ]
  },
  {
   "cell_type": "code",
   "execution_count": 21,
   "metadata": {},
   "outputs": [
    {
     "name": "stdout",
     "output_type": "stream",
     "text": [
      "Eigen values : \n",
      "[2. 1. 2.]\n",
      "Eigen vectors :\n",
      "[[ 0.          0.          0.70710678]\n",
      " [ 1.         -0.70710678  0.        ]\n",
      " [ 0.          0.70710678 -0.70710678]]\n"
     ]
    }
   ],
   "source": [
    "m_p = np.array([\n",
    "    [2,0,0],\n",
    "    [1,2,1],\n",
    "    [-1,0,1]\n",
    "])\n",
    "\n",
    "p_eigen_values, p_eigen_vector = np.linalg.eig(m_p)\n",
    "\n",
    "print(\"Eigen values : \")\n",
    "print(p_eigen_values)\n",
    "\n",
    "print(\"Eigen vectors :\")\n",
    "print(p_eigen_vector)"
   ]
  },
  {
   "cell_type": "code",
   "execution_count": 22,
   "metadata": {},
   "outputs": [
    {
     "name": "stdout",
     "output_type": "stream",
     "text": [
      "Eigen values : \n",
      "[ 2.79128785  1.         -1.79128785]\n",
      "Eigen vectors :\n",
      "[[-0.43816211  0.08543577  0.31958037]\n",
      " [-0.78487447  0.85435766 -0.89204079]\n",
      " [-0.43816211  0.51261459  0.31958037]]\n"
     ]
    }
   ],
   "source": [
    "m_c = np.array([\n",
    "    [3,1,-2],\n",
    "    [4,0,1],\n",
    "    [2,1,-1]\n",
    "])\n",
    "\n",
    "c_eigen_values, c_eigen_vector = np.linalg.eig(m_c)\n",
    "\n",
    "print(\"Eigen values : \")\n",
    "print(c_eigen_values)\n",
    "\n",
    "print(\"Eigen vectors :\")\n",
    "print(c_eigen_vector)"
   ]
  },
  {
   "cell_type": "code",
   "execution_count": null,
   "metadata": {},
   "outputs": [],
   "source": []
  }
 ],
 "metadata": {
  "kernelspec": {
   "display_name": "Python 3",
   "language": "python",
   "name": "python3"
  },
  "language_info": {
   "codemirror_mode": {
    "name": "ipython",
    "version": 3
   },
   "file_extension": ".py",
   "mimetype": "text/x-python",
   "name": "python",
   "nbconvert_exporter": "python",
   "pygments_lexer": "ipython3",
   "version": "3.11.4"
  }
 },
 "nbformat": 4,
 "nbformat_minor": 2
}
