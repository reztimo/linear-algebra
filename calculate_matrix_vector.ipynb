{
 "cells": [
  {
   "cell_type": "code",
   "execution_count": 2,
   "metadata": {},
   "outputs": [
    {
     "name": "stdout",
     "output_type": "stream",
     "text": [
      "-2.0\n"
     ]
    }
   ],
   "source": [
    "import numpy as np\n",
    "\n",
    "w = np.array([\n",
    "    [1, 2, -1],\n",
    "    [1, 0, 1],\n",
    "    [0, 1, 0]\n",
    "])\n",
    "\n",
    "w_det = np.linalg.det(w)\n",
    "print(w_det)"
   ]
  },
  {
   "cell_type": "code",
   "execution_count": 3,
   "metadata": {},
   "outputs": [
    {
     "name": "stdout",
     "output_type": "stream",
     "text": [
      "[[ 0.5  0.5 -1. ]\n",
      " [-0.  -0.   1. ]\n",
      " [-0.5  0.5  1. ]]\n"
     ]
    }
   ],
   "source": [
    "w_inv = np.linalg.inv(w)\n",
    "print(w_inv)"
   ]
  },
  {
   "cell_type": "code",
   "execution_count": 4,
   "metadata": {},
   "outputs": [],
   "source": [
    "m_idt = np.array([\n",
    "    [1, 0, 0],\n",
    "    [0, 1, 0],\n",
    "    [0, 0, 1]\n",
    "])"
   ]
  },
  {
   "cell_type": "code",
   "execution_count": 5,
   "metadata": {},
   "outputs": [
    {
     "name": "stdout",
     "output_type": "stream",
     "text": [
      "[[ 0.5  0.5 -1. ]\n",
      " [ 0.   0.   1. ]\n",
      " [-0.5  0.5  1. ]]\n"
     ]
    }
   ],
   "source": [
    "w_multi = np.dot(w_inv, m_idt)\n",
    "print(w_multi)"
   ]
  },
  {
   "cell_type": "code",
   "execution_count": 6,
   "metadata": {},
   "outputs": [
    {
     "name": "stdout",
     "output_type": "stream",
     "text": [
      "1.0\n"
     ]
    }
   ],
   "source": [
    "print(np.linalg.det(m_idt))"
   ]
  },
  {
   "cell_type": "code",
   "execution_count": 7,
   "metadata": {},
   "outputs": [
    {
     "name": "stdout",
     "output_type": "stream",
     "text": [
      "[[ 5]\n",
      " [-2]\n",
      " [ 0]]\n"
     ]
    }
   ],
   "source": [
    "v_b = np.array([\n",
    "    [5],\n",
    "    [-2],\n",
    "    [0]\n",
    "])\n",
    "\n",
    "print(v_b)"
   ]
  },
  {
   "cell_type": "code",
   "execution_count": 8,
   "metadata": {},
   "outputs": [
    {
     "name": "stdout",
     "output_type": "stream",
     "text": [
      "[[ 1]\n",
      " [ 5]\n",
      " [-2]]\n"
     ]
    }
   ],
   "source": [
    "w_multi_b = np.dot(w, v_b)\n",
    "print(w_multi_b)"
   ]
  },
  {
   "cell_type": "code",
   "execution_count": 9,
   "metadata": {},
   "outputs": [
    {
     "name": "stdout",
     "output_type": "stream",
     "text": [
      "[[8]]\n"
     ]
    }
   ],
   "source": [
    "v_m = np.array([\n",
    "    [3,1,-7]\n",
    "])\n",
    "\n",
    "v_n = np.array([\n",
    "    [2],\n",
    "    [2],\n",
    "    [0]\n",
    "])\n",
    "\n",
    "v_mn = np.dot(v_m, v_n)\n",
    "print(v_mn)"
   ]
  },
  {
   "cell_type": "code",
   "execution_count": 10,
   "metadata": {},
   "outputs": [
    {
     "name": "stdout",
     "output_type": "stream",
     "text": [
      "[[ 33  -1 -20]\n",
      " [  9  -5   4]\n",
      " [ -6   2   0]]\n"
     ]
    }
   ],
   "source": [
    "m_a = np.array([\n",
    "    [5, 2, 3],\n",
    "    [-1, -3, 2],\n",
    "    [0, 1, -1]\n",
    "])\n",
    "\n",
    "m_b = np.array([\n",
    "    [1, 0, -4],\n",
    "    [2, 1, 0],\n",
    "    [8, -1, 0]\n",
    "])\n",
    "\n",
    "multi_ab = np.dot(m_a, m_b)\n",
    "print(multi_ab)"
   ]
  },
  {
   "cell_type": "code",
   "execution_count": 11,
   "metadata": {},
   "outputs": [
    {
     "name": "stdout",
     "output_type": "stream",
     "text": [
      "[[-3.84923045e+13 -1.92461523e+14 -5.00399959e+14]\n",
      " [-1.15476914e+14 -5.77384568e+14 -1.50119988e+15]\n",
      " [-5.77384568e+13 -2.88692284e+14 -7.50599938e+14]]\n"
     ]
    }
   ],
   "source": [
    "m_ab_inv = np.linalg.inv(multi_ab)\n",
    "print(m_ab_inv)"
   ]
  },
  {
   "cell_type": "code",
   "execution_count": 12,
   "metadata": {},
   "outputs": [
    {
     "name": "stdout",
     "output_type": "stream",
     "text": [
      "0.0\n"
     ]
    }
   ],
   "source": [
    "print(np.linalg.det(m_ab_inv))"
   ]
  }
 ],
 "metadata": {
  "kernelspec": {
   "display_name": "Python 3",
   "language": "python",
   "name": "python3"
  },
  "language_info": {
   "codemirror_mode": {
    "name": "ipython",
    "version": 3
   },
   "file_extension": ".py",
   "mimetype": "text/x-python",
   "name": "python",
   "nbconvert_exporter": "python",
   "pygments_lexer": "ipython3",
   "version": "3.11.4"
  }
 },
 "nbformat": 4,
 "nbformat_minor": 2
}
